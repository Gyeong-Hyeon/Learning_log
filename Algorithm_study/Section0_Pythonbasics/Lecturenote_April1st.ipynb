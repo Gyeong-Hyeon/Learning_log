{
  "nbformat": 4,
  "nbformat_minor": 0,
  "metadata": {
    "kernelspec": {
      "display_name": "Python 3",
      "language": "python",
      "name": "python3"
    },
    "language_info": {
      "codemirror_mode": {
        "name": "ipython",
        "version": 3
      },
      "file_extension": ".py",
      "mimetype": "text/x-python",
      "name": "python",
      "nbconvert_exporter": "python",
      "pygments_lexer": "ipython3",
      "version": "3.8.5"
    },
    "colab": {
      "name": "Sectio0_Pythonbasics_April1st.ipynb",
      "provenance": [],
      "include_colab_link": true
    }
  },
  "cells": [
    {
      "cell_type": "markdown",
      "metadata": {
        "id": "view-in-github",
        "colab_type": "text"
      },
      "source": [
        "<a href=\"https://colab.research.google.com/github/Gyeong-Hyeon/Hyunie_Programming/blob/main/Algorithm%20study/Section0_Pythonbasics/Lecturenote_April1st.ipynb\" target=\"_parent\"><img src=\"https://colab.research.google.com/assets/colab-badge.svg\" alt=\"Open In Colab\"/></a>"
      ]
    },
    {
      "cell_type": "markdown",
      "metadata": {
        "id": "50pLBLRFrncx"
      },
      "source": [
        "# Python study - Section1 (1st week April)"
      ]
    },
    {
      "cell_type": "markdown",
      "metadata": {
        "id": "lTWolweqrnc6"
      },
      "source": [
        "## 변수"
      ]
    },
    {
      "cell_type": "code",
      "metadata": {
        "id": "gPuKVpnnrnc7"
      },
      "source": [
        "#변수는 숫자로 시작하면 안됨\n",
        "#실수형은 8byte까지만 저장가능"
      ],
      "execution_count": null,
      "outputs": []
    },
    {
      "cell_type": "code",
      "metadata": {
        "id": "2NAQ4eaNrnc8",
        "outputId": "f122c4e8-2602-4dc3-c3a0-66a5f4c9f45c"
      },
      "source": [
        "#동시에 여러변수 저장 가능\n",
        "a,b,c=1,2,3\n",
        "print(a)\n",
        "print(b)\n",
        "print(c)"
      ],
      "execution_count": null,
      "outputs": [
        {
          "output_type": "stream",
          "text": [
            "1\n",
            "2\n",
            "3\n"
          ],
          "name": "stdout"
        }
      ]
    },
    {
      "cell_type": "markdown",
      "metadata": {
        "id": "EwowkbWernc9"
      },
      "source": [
        "## 출력함수"
      ]
    },
    {
      "cell_type": "code",
      "metadata": {
        "id": "hctiwhCLrnc9",
        "outputId": "61248493-dad8-40dc-d736-b1b3ead0256d"
      },
      "source": [
        "#sep= print내의 변수 구분자를 지정\n",
        "print(a,b,c) #sep을 지정해주지 않으면 자동으로 띄워쓰기로 들어감\n",
        "print(a,b,c, sep='/')"
      ],
      "execution_count": null,
      "outputs": [
        {
          "output_type": "stream",
          "text": [
            "1 2 3\n",
            "1/2/3\n"
          ],
          "name": "stdout"
        }
      ]
    },
    {
      "cell_type": "code",
      "metadata": {
        "id": "63rco4Q2rnc-",
        "outputId": "850f77a1-6a11-4a82-bb6d-23e359898f1c"
      },
      "source": [
        "#end= print함수 사이의 구분자를 지정 (default: /n)\n",
        "print(a,end=' ')\n",
        "print(b,end='/')\n",
        "print(c)"
      ],
      "execution_count": null,
      "outputs": [
        {
          "output_type": "stream",
          "text": [
            "1 2/3\n"
          ],
          "name": "stdout"
        }
      ]
    },
    {
      "cell_type": "markdown",
      "metadata": {
        "id": "oa_-nKsprnc-"
      },
      "source": [
        "## input함수, map, 연산자"
      ]
    },
    {
      "cell_type": "code",
      "metadata": {
        "id": "e5S6I0yRrnc_",
        "outputId": "015c248d-7d21-4683-ee6d-27de648a0624"
      },
      "source": [
        "#input함수의 활용 알아보기\n",
        "a=input('입력:')\n",
        "print(a+2)"
      ],
      "execution_count": null,
      "outputs": [
        {
          "output_type": "stream",
          "text": [
            "입력:3\n"
          ],
          "name": "stdout"
        },
        {
          "output_type": "error",
          "ename": "TypeError",
          "evalue": "can only concatenate str (not \"int\") to str",
          "traceback": [
            "\u001b[0;31m---------------------------------------------------------------------------\u001b[0m",
            "\u001b[0;31mTypeError\u001b[0m                                 Traceback (most recent call last)",
            "\u001b[0;32m<ipython-input-7-c2b3daeeda7f>\u001b[0m in \u001b[0;36m<module>\u001b[0;34m\u001b[0m\n\u001b[1;32m      1\u001b[0m \u001b[0;31m#input함수의 활용 알아보기\u001b[0m\u001b[0;34m\u001b[0m\u001b[0;34m\u001b[0m\u001b[0;34m\u001b[0m\u001b[0m\n\u001b[1;32m      2\u001b[0m \u001b[0ma\u001b[0m\u001b[0;34m=\u001b[0m\u001b[0minput\u001b[0m\u001b[0;34m(\u001b[0m\u001b[0;34m'입력:'\u001b[0m\u001b[0;34m)\u001b[0m\u001b[0;34m\u001b[0m\u001b[0;34m\u001b[0m\u001b[0m\n\u001b[0;32m----> 3\u001b[0;31m \u001b[0mprint\u001b[0m\u001b[0;34m(\u001b[0m\u001b[0ma\u001b[0m\u001b[0;34m+\u001b[0m\u001b[0;36m2\u001b[0m\u001b[0;34m)\u001b[0m\u001b[0;34m\u001b[0m\u001b[0;34m\u001b[0m\u001b[0m\n\u001b[0m",
            "\u001b[0;31mTypeError\u001b[0m: can only concatenate str (not \"int\") to str"
          ]
        }
      ]
    },
    {
      "cell_type": "code",
      "metadata": {
        "id": "ijN8W0VWrnc_",
        "outputId": "6b24291e-d771-4706-ed9e-7c9f663a830b"
      },
      "source": [
        "a=input('입력:')\n",
        "print(int(a)+2)"
      ],
      "execution_count": null,
      "outputs": [
        {
          "output_type": "stream",
          "text": [
            "입력:3\n",
            "5\n"
          ],
          "name": "stdout"
        }
      ]
    },
    {
      "cell_type": "code",
      "metadata": {
        "id": "i8c0FRAprndA",
        "outputId": "db2d996c-44d1-40bd-917f-2f530ed0cedb"
      },
      "source": [
        "a,b=input('입력:').split(',')\n",
        "print(a+b)\n",
        "print(int(a)+int(b))"
      ],
      "execution_count": null,
      "outputs": [
        {
          "output_type": "stream",
          "text": [
            "입력:3,4\n",
            "34\n",
            "7\n"
          ],
          "name": "stdout"
        }
      ]
    },
    {
      "cell_type": "code",
      "metadata": {
        "id": "fLwJqj1ErndB",
        "outputId": "8339ba73-d7d6-4080-d2e2-0bc1b27e89b0"
      },
      "source": [
        "#바로 정수로 바꾸기\n",
        "a,b=map(int,input('입력:').split(','))\n",
        "print(a+b)"
      ],
      "execution_count": null,
      "outputs": [
        {
          "output_type": "stream",
          "text": [
            "입력:3,6\n",
            "9\n"
          ],
          "name": "stdout"
        }
      ]
    },
    {
      "cell_type": "code",
      "metadata": {
        "id": "yIBHRLH5rndB"
      },
      "source": [
        "#몫://, 나머지:%, 거듭제곱:**"
      ],
      "execution_count": null,
      "outputs": []
    },
    {
      "cell_type": "markdown",
      "metadata": {
        "id": "fIdeitaWrndC"
      },
      "source": [
        "## 조건문, 반복문"
      ]
    },
    {
      "cell_type": "code",
      "metadata": {
        "id": "0_etSORarndC",
        "outputId": "bb6df6e0-3c80-42b6-ad50-22215b002db6"
      },
      "source": [
        "#and 안써도 됨\n",
        "x=5\n",
        "if 0<x<10:\n",
        "    print('10보다 작은 자연수')"
      ],
      "execution_count": null,
      "outputs": [
        {
          "output_type": "stream",
          "text": [
            "10보다 작은 자연수\n"
          ],
          "name": "stdout"
        }
      ]
    },
    {
      "cell_type": "code",
      "metadata": {
        "id": "WlPDOo69rndC",
        "outputId": "d22da009-48e0-4252-d85a-a48680262a40"
      },
      "source": [
        "#range함수로 정수를 역순으로 넣고싶으면 간격 파라미터에 -(간격) 추가\n",
        "for i in range(5,1,-1):\n",
        "    print(i)"
      ],
      "execution_count": null,
      "outputs": [
        {
          "output_type": "stream",
          "text": [
            "5\n",
            "4\n",
            "3\n",
            "2\n"
          ],
          "name": "stdout"
        }
      ]
    },
    {
      "cell_type": "code",
      "metadata": {
        "id": "GCQk0J56rndD"
      },
      "source": [
        "#while문 중단: break"
      ],
      "execution_count": null,
      "outputs": []
    },
    {
      "cell_type": "code",
      "metadata": {
        "id": "7IqurKjfrndD",
        "outputId": "f3ca71da-7784-439b-fb9b-59d6f563790d"
      },
      "source": [
        "#for문 순서 건너뛰기: continue\n",
        "for i in range(1,11):\n",
        "    if i%2==0:\n",
        "        continue\n",
        "    print(i)"
      ],
      "execution_count": null,
      "outputs": [
        {
          "output_type": "stream",
          "text": [
            "1\n",
            "3\n",
            "5\n",
            "7\n",
            "9\n"
          ],
          "name": "stdout"
        }
      ]
    },
    {
      "cell_type": "code",
      "metadata": {
        "id": "YQB8qpZgrndD",
        "outputId": "1bc0aa9f-0734-46f9-b394-7fbef4be49cf"
      },
      "source": [
        "#pass는 다음 문장을 실행, continue는 다음문장 실행 안하고 바로 다음 순서로 넘어감\n",
        "for i in range(1,11):\n",
        "    if i%2==0:\n",
        "        pass\n",
        "    print(i)"
      ],
      "execution_count": null,
      "outputs": [
        {
          "output_type": "stream",
          "text": [
            "1\n",
            "2\n",
            "3\n",
            "4\n",
            "5\n",
            "6\n",
            "7\n",
            "8\n",
            "9\n",
            "10\n"
          ],
          "name": "stdout"
        }
      ]
    },
    {
      "cell_type": "code",
      "metadata": {
        "id": "1Lo7PazUrndE",
        "outputId": "50c635e6-a1be-415f-aa08-bfb490461a5c"
      },
      "source": [
        "#for~else: for문이 정상적으로 끝나면 else 수행, 중간에 break되면 else 수행 안함\n",
        "for i in range(1,6):\n",
        "    print(i)\n",
        "    if i>3:\n",
        "        break\n",
        "else:\n",
        "    print(8)"
      ],
      "execution_count": null,
      "outputs": [
        {
          "output_type": "stream",
          "text": [
            "1\n",
            "2\n",
            "3\n",
            "4\n"
          ],
          "name": "stdout"
        }
      ]
    },
    {
      "cell_type": "code",
      "metadata": {
        "id": "uVT9NzqrrndE",
        "outputId": "bae6c27b-34d2-4d24-a908-a4adc1f1e1d5"
      },
      "source": [
        "for i in range(1,6):\n",
        "    print(i)\n",
        "    if i>7:\n",
        "        break\n",
        "else:\n",
        "    print(8)"
      ],
      "execution_count": null,
      "outputs": [
        {
          "output_type": "stream",
          "text": [
            "1\n",
            "2\n",
            "3\n",
            "4\n",
            "5\n",
            "8\n"
          ],
          "name": "stdout"
        }
      ]
    },
    {
      "cell_type": "code",
      "metadata": {
        "id": "kutFWk-LrndE",
        "outputId": "090d76f8-db53-4495-f04c-7a6551503727"
      },
      "source": [
        "#중첩 반복문\n",
        "for i in range(5):\n",
        "    for j in range(5-i):\n",
        "        print('*',end='')\n",
        "    print()"
      ],
      "execution_count": null,
      "outputs": [
        {
          "output_type": "stream",
          "text": [
            "*****\n",
            "****\n",
            "***\n",
            "**\n",
            "*\n"
          ],
          "name": "stdout"
        }
      ]
    },
    {
      "cell_type": "markdown",
      "metadata": {
        "id": "SwK2X0azrndF"
      },
      "source": [
        "## 문자열 내장함수"
      ]
    },
    {
      "cell_type": "code",
      "metadata": {
        "id": "84gqsmTzrndF",
        "outputId": "d0ee4d88-e7b7-4388-a619-04b24fbcbaef"
      },
      "source": [
        "#대문자화: 변수.upper()\n",
        "#소문자화: 변수.lower()\n",
        "#특정 값의 첫 인덱스번호 추출(그 값이 여러개 있어도 제일 처음 인덱스만 리턴함): 변수.find()\n",
        "#특정 값 갯수 추출: 변수.count()\n",
        "\n",
        "#.isupper(), islower(), isalpha(): 대문자인지/소문자인지/공백이아닌지 확인하는 함수\n",
        "msg='Hello World'\n",
        "for x in msg:\n",
        "    if x.isupper():\n",
        "        print(x, end='/')\n",
        "    elif x.islower():\n",
        "        print(x, end='/')\n",
        "    print('\\n***')\n",
        "    if x.isalpha():\n",
        "        print(x, end=',')"
      ],
      "execution_count": null,
      "outputs": [
        {
          "output_type": "stream",
          "text": [
            "H/\n",
            "***\n",
            "H,e/\n",
            "***\n",
            "e,l/\n",
            "***\n",
            "l,l/\n",
            "***\n",
            "l,o/\n",
            "***\n",
            "o,\n",
            "***\n",
            "W/\n",
            "***\n",
            "W,o/\n",
            "***\n",
            "o,r/\n",
            "***\n",
            "r,l/\n",
            "***\n",
            "l,d/\n",
            "***\n",
            "d,"
          ],
          "name": "stdout"
        }
      ]
    },
    {
      "cell_type": "code",
      "metadata": {
        "id": "M6ywoWLfrndF",
        "outputId": "d693de35-f457-4be6-8f62-324734525228"
      },
      "source": [
        "#ord(): 알파펫 순서대로 A:65 ~ Z:90, 소문자/ 대문자 구분\n",
        "#chr(): ord를 문자로 바꿔줌\n",
        "for x in msg:\n",
        "    print(ord(x))"
      ],
      "execution_count": null,
      "outputs": [
        {
          "output_type": "stream",
          "text": [
            "72\n",
            "101\n",
            "108\n",
            "108\n",
            "111\n",
            "32\n",
            "87\n",
            "111\n",
            "114\n",
            "108\n",
            "100\n"
          ],
          "name": "stdout"
        }
      ]
    },
    {
      "cell_type": "markdown",
      "metadata": {
        "id": "4ZLRh5ocrndF"
      },
      "source": [
        "## 리스트와 내장함수"
      ]
    },
    {
      "cell_type": "code",
      "metadata": {
        "id": "Qu3JX0carndG",
        "outputId": "448cbdab-a443-4570-ce07-ff037f163163"
      },
      "source": [
        "#.insert(인덱스, 입력할 값): 인덱스 위치에 값을 추가함\n",
        "#.pop(인덱스, default: 맨 마지막): 해당 인덱스의 값을 삭제함\n",
        "#.remove(값): 해당 값을 삭제함\n",
        "#.index(값): 해당 값의 제일 첫번째 인덱스 번호를 출력함\n",
        "#.clear(): 리스트에 있는 모든 요소 제거 (리스트 초기화)\n",
        "\n",
        "a=[2,3,4,4,5]\n",
        "print(a.index(4))"
      ],
      "execution_count": null,
      "outputs": [
        {
          "output_type": "stream",
          "text": [
            "2\n"
          ],
          "name": "stdout"
        }
      ]
    },
    {
      "cell_type": "code",
      "metadata": {
        "id": "h7I9qcDOrndG"
      },
      "source": [
        "#sum(list이름): 해당 리스트 요소의 합 출력\n",
        "#max(list이름),min(list이름): 해당 리스트 요소의 최소/최대값 출력"
      ],
      "execution_count": null,
      "outputs": []
    },
    {
      "cell_type": "code",
      "metadata": {
        "id": "eSEP8lsirndG",
        "outputId": "038f2632-d1ae-485e-c451-41cef3357aba"
      },
      "source": [
        "import random as r\n",
        "\n",
        "#요소를 랜덤으로 순서를 섞음\n",
        "a=[1,2,3,4,5]\n",
        "r.shuffle(a)\n",
        "print(a)"
      ],
      "execution_count": null,
      "outputs": [
        {
          "output_type": "stream",
          "text": [
            "[1, 3, 4, 5, 2]\n"
          ],
          "name": "stdout"
        }
      ]
    },
    {
      "cell_type": "code",
      "metadata": {
        "id": "DWRr-aNLrndG"
      },
      "source": [
        "#.sort(): 리스트 요소 오름차순으로 정리\n",
        "#.sort(reverse=True): 리스트 요소 내림차순으로 정리"
      ],
      "execution_count": null,
      "outputs": []
    },
    {
      "cell_type": "code",
      "metadata": {
        "id": "W_FZB5bJrndH",
        "outputId": "abe29bba-fa42-41e4-c5df-96ab660ed694"
      },
      "source": [
        "#if all(): all안의 모든 조건이 참이면\n",
        "#if any(): any안의 조건 중 하나라도 참이면\n",
        "\n",
        "if all(5>x for x in a):\n",
        "    print('Y')\n",
        "else:\n",
        "    print('N') #'5'요소때문에 하나가 거짓이라 N 출력"
      ],
      "execution_count": null,
      "outputs": [
        {
          "output_type": "stream",
          "text": [
            "N\n"
          ],
          "name": "stdout"
        }
      ]
    },
    {
      "cell_type": "code",
      "metadata": {
        "id": "3T99REM4rndH",
        "outputId": "9aa387c8-2d2e-4875-ad28-2666039794df"
      },
      "source": [
        "#1차원 리스트 생성\n",
        "a=[0]*3\n",
        "print(a)\n",
        "\n",
        "#2차원 리스트 생성 [[a],[a]] = 2행 1열\n",
        "a=[[0]*3 for _ in range(3)]\n",
        "print(a)"
      ],
      "execution_count": null,
      "outputs": [
        {
          "output_type": "stream",
          "text": [
            "[0, 0, 0]\n",
            "[[0, 0, 0], [0, 0, 0], [0, 0, 0]]\n"
          ],
          "name": "stdout"
        }
      ]
    },
    {
      "cell_type": "markdown",
      "metadata": {
        "id": "VofYBEOzrndH"
      },
      "source": [
        "## 함수만들기"
      ]
    },
    {
      "cell_type": "code",
      "metadata": {
        "id": "U1AayVQyrndH",
        "outputId": "a1942f8d-7bb8-4617-cf7c-ca6cf2c69ca7"
      },
      "source": [
        "#솟수만 출력하는 함수만들기\n",
        "def isPrime(x):\n",
        "    for i in range(2,x):\n",
        "        if x%i==0:\n",
        "            return False\n",
        "    return True\n",
        "\n",
        "a=[12,13,7,9,19]\n",
        "for y in a:\n",
        "    if isPrime(y):\n",
        "        print(y,end='')"
      ],
      "execution_count": null,
      "outputs": [
        {
          "output_type": "stream",
          "text": [
            "13719"
          ],
          "name": "stdout"
        }
      ]
    },
    {
      "cell_type": "code",
      "metadata": {
        "id": "BKuQt8cMrndI",
        "outputId": "19f0a520-92ed-443f-ef59-871dc2becb89"
      },
      "source": [
        "'''\n",
        "람다함수\n",
        "\n",
        "함수이름 = lambda 변수: 함수\n",
        "'''\n",
        "def plus_one(x):\n",
        "    return x+1\n",
        "\n",
        "a=[1,2,3]\n",
        "print(list(map(plus_one, a)))\n",
        "print(list(map(lambda x: x+1, a)))"
      ],
      "execution_count": null,
      "outputs": [
        {
          "output_type": "stream",
          "text": [
            "[2, 3, 4]\n",
            "[2, 3, 4]\n"
          ],
          "name": "stdout"
        }
      ]
    }
  ]
}